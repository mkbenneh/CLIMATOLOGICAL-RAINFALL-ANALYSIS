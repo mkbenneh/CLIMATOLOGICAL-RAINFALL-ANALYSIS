{
 "cells": [
  {
   "cell_type": "code",
   "execution_count": 2,
   "metadata": {},
   "outputs": [],
   "source": [
    "import xarray as xr\n",
    "import pandas as pd\n",
    "import numpy as np\n",
    "import matplotlib.pyplot as plt\n",
    "import cartopy as cp\n",
    "import cartopy.crs as ccrs\n",
    "import cartopy.feature as cf\n",
    "from cartopy.mpl.ticker import LongitudeFormatter, LatitudeFormatter\n",
    "from pathlib import Path\n",
    "import warnings\n",
    "warnings.filterwarnings('ignore')\n",
    "from mpl_toolkits.basemap import Basemap"
   ]
  },
  {
   "cell_type": "code",
   "execution_count": 3,
   "metadata": {},
   "outputs": [],
   "source": [
    "data = xr.open_dataset(\"./data/Ghana_chirps_dRR_1991_2020.nc\")\n",
    "data = data.sel(latitude = slice(4,12), longitude = slice(-3,1.5)).precip\n",
    "data = data.resample(time = 'y').sum('time')"
   ]
  },
  {
   "cell_type": "code",
   "execution_count": 6,
   "metadata": {},
   "outputs": [],
   "source": [
    "location = pd.read_fwf(\"GMet_location_avgSI.txt\",  names = ['Station','longitude','latitude','g'])\n",
    "path_to_file=Path('data/')"
   ]
  },
  {
   "cell_type": "code",
   "execution_count": 20,
   "metadata": {},
   "outputs": [],
   "source": [
    "import netCDF4 as nc\n",
    "import numpy as np\n",
    "import os\n",
    "\n",
    "# Function to read NetCDF file and save station data into individual text files\n",
    "def separate_stations_to_txt(nc_file, output_dir):\n",
    "    # Open the NetCDF file\n",
    "    ds = nc.Dataset(\"./data/Ghana_chirps_dRR_1991_2020.nc\")\n",
    "    \n",
    "    # Assuming the structure of the dataset\n",
    "    # Dimensions: time, station\n",
    "    # Variables: time, station, rainfall\n",
    "    \n",
    "    # Extract the dimensions and variables\n",
    "    times = ds.variables['time'][:]  # or appropriate time variable\n",
    "    stations = ds.variables['station'][:]  # or appropriate station variable\n",
    "    rainfall = ds.variables['rainfall'][:]  # or appropriate rainfall variable\n",
    "    \n",
    "    # Ensure output directory exists\n",
    "    if not os.path.exists(\"data\"):\n",
    "        os.makedirs(\"data\")\n",
    "    \n",
    "    # Loop through each station and save the data\n",
    "    for i, station in enumerate(stations):\n",
    "        # Create a filename for each station\n",
    "        station_id = str(station)\n",
    "        filename = os.path.join(\"data\", f'station_{station_id}.txt')\n",
    "        \n",
    "        # Open a text file for the station\n",
    "        with open(filename, 'w') as f:\n",
    "            f.write('Time\\tRainfall\\n')\n",
    "            for j, time in enumerate(times):\n",
    "                f.write(f'{time}\\t{rainfall[j, i]}\\n')\n",
    "    \n",
    "    # Close the dataset\n",
    "    ds.close()\n",
    "\n",
    "# Example usage\n",
    "#nc_file = 'path/to/ghana_rainfall_data.nc'\n",
    "#output_dir = 'output_directory'\n",
    "#separate_stations_to_txt(nc_file, output_dir)\n"
   ]
  }
 ],
 "metadata": {
  "kernelspec": {
   "display_name": "Python 3",
   "language": "python",
   "name": "python3"
  },
  "language_info": {
   "codemirror_mode": {
    "name": "ipython",
    "version": 3
   },
   "file_extension": ".py",
   "mimetype": "text/x-python",
   "name": "python",
   "nbconvert_exporter": "python",
   "pygments_lexer": "ipython3",
   "version": "3.11.3"
  }
 },
 "nbformat": 4,
 "nbformat_minor": 2
}
