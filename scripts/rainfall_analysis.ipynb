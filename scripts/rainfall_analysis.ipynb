{
 "cells": [
  {
   "cell_type": "markdown",
   "id": "b03a38e6",
   "metadata": {},
   "source": [
    "# import necessary packages"
   ]
  },
  {
   "cell_type": "code",
   "execution_count": null,
   "id": "701fc5a5",
   "metadata": {},
   "outputs": [],
   "source": [
    "import glob\n",
    "import numpy as np\n",
    "import pandas as pd\n",
    "import matplotlib.pyplot as plt\n",
    "from os.path import basename, join"
   ]
  },
  {
   "cell_type": "markdown",
   "id": "b09b36fe",
   "metadata": {},
   "source": [
    "# Define the path to the data directory"
   ]
  },
  {
   "cell_type": "code",
   "execution_count": null,
   "id": "2f90e474",
   "metadata": {},
   "outputs": [],
   "source": [
    "path = \"path/to/directory\""
   ]
  },
  {
   "cell_type": "markdown",
   "id": "75052ee8",
   "metadata": {},
   "source": [
    "# Get all \".txt\" files in the directory"
   ]
  },
  {
   "cell_type": "code",
   "execution_count": null,
   "id": "59c534ec",
   "metadata": {},
   "outputs": [],
   "source": [
    "files = sorted(glob.glob(join(path, '*.txt')))"
   ]
  },
  {
   "cell_type": "markdown",
   "id": "33fd22c6",
   "metadata": {},
   "source": [
    "# Check if there are exactly 72 files (24 locations * 3 years)"
   ]
  },
  {
   "cell_type": "code",
   "execution_count": null,
   "id": "d897156f",
   "metadata": {},
   "outputs": [],
   "source": [
    "if len(files) != 72:\n",
    "    print(f\"Expected 72 files (24 locations * 3 years), found {len(files)} files.\")\n",
    "    exit()"
   ]
  },
  {
   "cell_type": "markdown",
   "id": "b5b7f4b1",
   "metadata": {},
   "source": [
    "# Organize files by location and year"
   ]
  },
  {
   "cell_type": "code",
   "execution_count": null,
   "id": "4228c941",
   "metadata": {},
   "outputs": [],
   "source": [
    "locations = sorted(set([basename(file).split('_')[0] for file in files]))"
   ]
  },
  {
   "cell_type": "markdown",
   "id": "d1e94268",
   "metadata": {},
   "source": [
    "# Define a dictionary to map locations to zones"
   ]
  },
  {
   "cell_type": "code",
   "execution_count": null,
   "id": "343b9cd8",
   "metadata": {},
   "outputs": [],
   "source": [
    "location_zones = {\n",
    "    'Zuarungu' : 'Sudan',\n",
    "    'Navrongo' : 'Sudan',\n",
    "    'Kintampo' : 'Transition',\n",
    "    'Sunyani' : 'Transition',\n",
    "    'Wenchi': 'Transition',\n",
    "    'Bole' : 'Guinea', \n",
    "    'Kete' : 'Guinea',\n",
    "    'Tamale' : 'Guinea',\n",
    "    'Wa' : 'Guinea',\n",
    "    'Yendi' : 'Guinea',\n",
    "    'Accra': 'Coast',\n",
    "    'Ada' : 'Coast',\n",
    "    'Akatsi' : 'Coast',\n",
    "    'Axim' : 'Coast',\n",
    "    'Saltpond' : 'Coast',\n",
    "    'Takoradi' : 'Coast',\n",
    "    'Tema' : 'Coast',\n",
    "    'Abetifi' : 'Forest',\n",
    "    'Akim' : 'Forest',\n",
    "    'Akuse' : 'Forest',\n",
    "    'Ho' : 'Forest',\n",
    "    'Koforidua' : 'Forest',\n",
    "    'Kumasi' : 'Forest',\n",
    "    'Sefwi' : 'Forest',\n",
    "}"
   ]
  },
  {
   "cell_type": "markdown",
   "id": "267e3763",
   "metadata": {},
   "source": [
    "# Group locations by zone"
   ]
  },
  {
   "cell_type": "code",
   "execution_count": null,
   "id": "1944b65a",
   "metadata": {},
   "outputs": [],
   "source": [
    "zones = {}\n",
    "for location in locations:\n",
    "    zone = location_zones.get(location, 'unknown')\n",
    "    if zone not in zones:\n",
    "        zones[zone] = []\n",
    "    zones[zone].append(location)"
   ]
  },
  {
   "cell_type": "markdown",
   "id": "28e835d4",
   "metadata": {},
   "source": [
    "# Define a dictionary to map years to specific colors"
   ]
  },
  {
   "cell_type": "code",
   "execution_count": null,
   "id": "698fc954",
   "metadata": {},
   "outputs": [],
   "source": [
    "year_colors = {\n",
    "    '1960': 'blue',\n",
    "    '1991': 'orange',\n",
    "    '2030': 'cyan'\n",
    "}"
   ]
  },
  {
   "cell_type": "markdown",
   "id": "76ea5f98",
   "metadata": {},
   "source": [
    "# This part iterates over all cliamte zones and makes a plot for the three decades on one canvas for each location. In addition, it identifies the onset and cessation of each map plot."
   ]
  },
  {
   "cell_type": "code",
   "execution_count": null,
   "id": "73151f4b",
   "metadata": {},
   "outputs": [],
   "source": [
    "for zone, zone_locations in zones.items():\n",
    "    num_locations = len(zone_locations)\n",
    "    cols = 2  # Number of columns for subplots\n",
    "    rows = (num_locations + cols - 1) // cols  # Calculate number of rows needed\n",
    "    \n",
    "    # Create a figure for the zone with subplots\n",
    "    fig, axes = plt.subplots(nrows=rows, ncols=cols, figsize=(15, 7 * rows))\n",
    "    axes = axes.flatten()  # Flatten in case there is only one row\n",
    "\n",
    "    # Iterate over each location in the zone\n",
    "    for ax, location in zip(axes, zone_locations):\n",
    "        location_files = [file for file in files if file.startswith(join(path, location))]\n",
    "        \n",
    "        # Check if there are exactly 3 files for each location\n",
    "        if len(location_files) != 3:\n",
    "            print(f\"Skipping {location}: Expected 3 files, found {len(location_files)}\")\n",
    "            continue\n",
    "\n",
    "        try:\n",
    "            # Iterate over each file (year) for the location\n",
    "            for file in location_files:\n",
    "                # Read the data\n",
    "                data = pd.read_csv(file, sep='\\s+', header=None, names=['Julian Day', 'Cumm'])\n",
    "                data.set_index('Julian Day', inplace=True)\n",
    "                \n",
    "                # Extract the year from the filename\n",
    "                year = basename(file).split('_')[-2].split('.')[0]\n",
    "                \n",
    "                # Plot the data with the specified color and label\n",
    "                data.plot(ax=ax, color=year_colors.get(year, 'cyan'), legend=True, label=year, linewidth=2.5)\n",
    "                \n",
    "                # Predict the onset and cessation\n",
    "                anomaly = data['Cumm'].values.flatten()\n",
    "                dx = 28\n",
    "                onset = []\n",
    "                cessation = []\n",
    "                for i in range(dx, len(anomaly) - dx):\n",
    "                    if min(anomaly[i-dx:i+dx]) == anomaly[i]:\n",
    "                        onset.append([i+1, anomaly[i]])\n",
    "                    if max(anomaly[i-dx:i+dx]) == anomaly[i]:\n",
    "                        cessation.append([i+1, anomaly[i]])\n",
    "\n",
    "                onset = np.array(onset).T\n",
    "                cessation = np.array(cessation).T\n",
    "\n",
    "                if onset.size > 0:\n",
    "                    ax.plot(onset[0], onset[1], 'ko', label=f'Onset {year}', markersize=10)\n",
    "                if cessation.size > 0:\n",
    "                    ax.plot(cessation[0], cessation[1], 'ro', label=f'Cessation {year}', markersize=10)    \n",
    "                    \n",
    "            # Customize the plot for the location\n",
    "            ax.set_title(location, fontsize=25)\n",
    "            ax.grid(visible=True, which='both', axis='both', linestyle='-', linewidth=0.8)\n",
    "            ax.minorticks_on()\n",
    "            ax.set_ylabel('Cumulative daily rainfall anomaly', size=20)\n",
    "            ax.set_xlabel('Julian day', size=20)\n",
    "            ax.xaxis.set_tick_params(labelsize=20)\n",
    "            ax.yaxis.set_tick_params(labelsize=20)\n",
    "\n",
    "            \n",
    "            # Create a custom legend\n",
    "            custom_lines = [\n",
    "                plt.Line2D([0], [0], color='blue', lw=5),\n",
    "                plt.Line2D([0], [0], color='orange', lw=5),\n",
    "                plt.Line2D([0], [0], color='cyan', lw=5)\n",
    "            ]\n",
    "            ax.legend(custom_lines, ['1960-1990', '1991-2020', '2030-2060'], fontsize=15)\n",
    "        \n",
    "        except Exception as e:\n",
    "            print(f\"Error processing {location}: {str(e)}\")\n",
    "        \n",
    "    # Hide any unused subplots\n",
    "    for i in range(num_locations, len(axes)):\n",
    "        axes[i].set_visible(False)\n",
    "    \n",
    "    # Adjust layout and save the plot for the zone\n",
    "    plt.tight_layout()\n",
    "    plt.suptitle(f'Zone: {zone}', fontsize=20)\n",
    "    plt.subplots_adjust(top=0.90, wspace=0.3, hspace=0.3)\n",
    "    plt.savefig(join(\"path/to/directory\",f'{zone}.png'))\n",
    "    plt.show()\n"
   ]
  }
 ],
 "metadata": {
  "kernelspec": {
   "display_name": "Python 3 (ipykernel)",
   "language": "python",
   "name": "python3"
  },
  "language_info": {
   "codemirror_mode": {
    "name": "ipython",
    "version": 3
   },
   "file_extension": ".py",
   "mimetype": "text/x-python",
   "name": "python",
   "nbconvert_exporter": "python",
   "pygments_lexer": "ipython3",
   "version": "3.9.12"
  }
 },
 "nbformat": 4,
 "nbformat_minor": 5
}
